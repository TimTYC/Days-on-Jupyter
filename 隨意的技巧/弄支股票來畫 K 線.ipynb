{
 "cells": [
  {
   "cell_type": "markdown",
   "metadata": {},
   "source": [
    "# 弄支股票來畫 K 線\n",
    "\n",
    "某天想讀個真實股票資料來玩耍一下。"
   ]
  },
  {
   "cell_type": "code",
   "execution_count": 1,
   "metadata": {
    "collapsed": true
   },
   "outputs": [],
   "source": [
    "%matplotlib inline"
   ]
  },
  {
   "cell_type": "code",
   "execution_count": 2,
   "metadata": {
    "collapsed": true
   },
   "outputs": [],
   "source": [
    "import matplotlib.pyplot as plt\n",
    "import seaborn as sns\n",
    "import numpy as np\n",
    "import pandas as pd"
   ]
  },
  {
   "cell_type": "markdown",
   "metadata": {},
   "source": [
    "注意 Pandas 以前在 `pandas.io` 下有 `data`, `wb` 等讀取外部資料, 現在都變成獨立套件。\n",
    "\n",
    "    pandas_datareader\n",
    "    \n",
    "在 Anaconda 下可以這樣安裝:\n",
    "\n",
    "    conda install pandas-datareader\n",
    "    \n",
    "我們還用 Python 標準套件 `datetime` 來表示日期。"
   ]
  },
  {
   "cell_type": "code",
   "execution_count": 3,
   "metadata": {
    "collapsed": true
   },
   "outputs": [],
   "source": [
    "import pandas_datareader.data as web\n",
    "import datetime"
   ]
  },
  {
   "cell_type": "markdown",
   "metadata": {},
   "source": [
    "去查查用來畫 K 線的套件有幾個, 隨便先拿一個來試試。"
   ]
  },
  {
   "cell_type": "code",
   "execution_count": 4,
   "metadata": {
    "collapsed": true
   },
   "outputs": [],
   "source": [
    "from matplotlib.finance import candlestick2_ochl"
   ]
  },
  {
   "cell_type": "code",
   "execution_count": 5,
   "metadata": {
    "collapsed": true
   },
   "outputs": [],
   "source": [
    "symbol = \"AAPL\"\n",
    "day_start = datetime.datetime(2016,10,1)\n",
    "day_end = datetime.datetime(2016,10,31)"
   ]
  },
  {
   "cell_type": "code",
   "execution_count": 6,
   "metadata": {
    "collapsed": true
   },
   "outputs": [],
   "source": [
    "df = web.DataReader(symbol, 'yahoo', day_start, day_end)"
   ]
  },
  {
   "cell_type": "markdown",
   "metadata": {
    "collapsed": true
   },
   "source": [
    "偷看一下手冊, 我們讓怎麼用...\n",
    "\n",
    "    matplotlib.finance.candlestick2_ochl(ax, opens, closes, highs, lows, width=4, colorup='k', colordown='r', alpha=0.75)"
   ]
  },
  {
   "cell_type": "code",
   "execution_count": 7,
   "metadata": {
    "collapsed": false
   },
   "outputs": [
    {
     "data": {
      "image/png": "[encoded data removed]",
      "text/plain": [
       "<matplotlib.figure.Figure at 0x114d4c240>"
      ]
     },
     "metadata": {},
     "output_type": "display_data"
    }
   ],
   "source": [
    "fig, ax = plt.subplots()\n",
    "candlestick2_ochl(ax, df.Open.values, df.Close.values, df.High.values, df.Low.values, width=0.4, colorup='r', colordown='g')"
   ]
  },
  {
   "cell_type": "markdown",
   "metadata": {},
   "source": [
    "## 日期考慮進去的 `candlestick_ohlc`\n",
    "\n",
    "這裡我們找個更方便印出日期的畫法。"
   ]
  },
  {
   "cell_type": "code",
   "execution_count": 8,
   "metadata": {
    "collapsed": true
   },
   "outputs": [],
   "source": [
    "from matplotlib.finance import candlestick_ohlc"
   ]
  },
  {
   "cell_type": "code",
   "execution_count": 9,
   "metadata": {
    "collapsed": true
   },
   "outputs": [],
   "source": [
    "symbol = \"AAPL\"\n",
    "day_start = datetime.datetime(2016,9,1)\n",
    "day_end = datetime.datetime(2016,10,31)"
   ]
  },
  {
   "cell_type": "code",
   "execution_count": 10,
   "metadata": {
    "collapsed": true
   },
   "outputs": [],
   "source": [
    "df2 = web.DataReader(symbol, 'yahoo', day_start, day_end)"
   ]
  },
  {
   "cell_type": "markdown",
   "metadata": {
    "collapsed": false
   },
   "source": [
    "我們再來看個說明。\n",
    "\n",
    "    matplotlib.finance.candlestick_ohlc(ax, quotes, width=0.2, colorup='k', colordown='r', alpha=1.0)\n",
    "\n",
    "這裡比較特別的是 `quotes` 這個部份, 我們再看看說明。\n",
    "\n",
    "    quotes : sequence of (time, open, high, low, close, ...) sequences"
   ]
  },
  {
   "cell_type": "markdown",
   "metadata": {},
   "source": [
    "很遺憾日期我們要 matplotlib 看得懂的樣子, 需要用 `date2num` 轉換, 偏偏 `date2num` 也只懂 Python `datetime` 的格式, 所以 `pandas` 要先轉成那樣的格式。"
   ]
  },
  {
   "cell_type": "code",
   "execution_count": 11,
   "metadata": {
    "collapsed": true
   },
   "outputs": [],
   "source": [
    "import matplotlib.dates as mdate"
   ]
  },
  {
   "cell_type": "code",
   "execution_count": 12,
   "metadata": {
    "collapsed": false
   },
   "outputs": [],
   "source": [
    "df2[\"date_num\"] = mdate.date2num(df2.index.to_pydatetime())"
   ]
  },
  {
   "cell_type": "code",
   "execution_count": 13,
   "metadata": {
    "collapsed": false
   },
   "outputs": [
    {
     "data": {
      "text/html": [
       "<div>\n",
       "<table border=\"1\" class=\"dataframe\">\n",
       "  <thead>\n",
       "    <tr style=\"text-align: right;\">\n",
       "      <th></th>\n",
       "      <th>Open</th>\n",
       "      <th>High</th>\n",
       "      <th>Low</th>\n",
       "      <th>Close</th>\n",
       "      <th>Volume</th>\n",
       "      <th>Adj Close</th>\n",
       "      <th>date_num</th>\n",
       "    </tr>\n",
       "    <tr>\n",
       "      <th>Date</th>\n",
       "      <th></th>\n",
       "      <th></th>\n",
       "      <th></th>\n",
       "      <th></th>\n",
       "      <th></th>\n",
       "      <th></th>\n",
       "      <th></th>\n",
       "    </tr>\n",
       "  </thead>\n",
       "  <tbody>\n",
       "    <tr>\n",
       "      <th>2016-09-01</th>\n",
       "      <td>106.139999</td>\n",
       "      <td>106.800003</td>\n",
       "      <td>105.620003</td>\n",
       "      <td>106.730003</td>\n",
       "      <td>26701500</td>\n",
       "      <td>106.184827</td>\n",
       "      <td>736208.0</td>\n",
       "    </tr>\n",
       "    <tr>\n",
       "      <th>2016-09-02</th>\n",
       "      <td>107.699997</td>\n",
       "      <td>108.000000</td>\n",
       "      <td>106.820000</td>\n",
       "      <td>107.730003</td>\n",
       "      <td>26802500</td>\n",
       "      <td>107.179719</td>\n",
       "      <td>736209.0</td>\n",
       "    </tr>\n",
       "    <tr>\n",
       "      <th>2016-09-06</th>\n",
       "      <td>107.900002</td>\n",
       "      <td>108.300003</td>\n",
       "      <td>107.510002</td>\n",
       "      <td>107.699997</td>\n",
       "      <td>26880400</td>\n",
       "      <td>107.149865</td>\n",
       "      <td>736213.0</td>\n",
       "    </tr>\n",
       "    <tr>\n",
       "      <th>2016-09-07</th>\n",
       "      <td>107.830002</td>\n",
       "      <td>108.760002</td>\n",
       "      <td>107.070000</td>\n",
       "      <td>108.360001</td>\n",
       "      <td>42364300</td>\n",
       "      <td>107.806498</td>\n",
       "      <td>736214.0</td>\n",
       "    </tr>\n",
       "    <tr>\n",
       "      <th>2016-09-08</th>\n",
       "      <td>107.250000</td>\n",
       "      <td>107.269997</td>\n",
       "      <td>105.239998</td>\n",
       "      <td>105.519997</td>\n",
       "      <td>53002000</td>\n",
       "      <td>104.981001</td>\n",
       "      <td>736215.0</td>\n",
       "    </tr>\n",
       "  </tbody>\n",
       "</table>\n",
       "</div>"
      ],
      "text/plain": [
       "                  Open        High         Low       Close    Volume  \\\n",
       "Date                                                                   \n",
       "2016-09-01  106.139999  106.800003  105.620003  106.730003  26701500   \n",
       "2016-09-02  107.699997  108.000000  106.820000  107.730003  26802500   \n",
       "2016-09-06  107.900002  108.300003  107.510002  107.699997  26880400   \n",
       "2016-09-07  107.830002  108.760002  107.070000  108.360001  42364300   \n",
       "2016-09-08  107.250000  107.269997  105.239998  105.519997  53002000   \n",
       "\n",
       "             Adj Close  date_num  \n",
       "Date                              \n",
       "2016-09-01  106.184827  736208.0  \n",
       "2016-09-02  107.179719  736209.0  \n",
       "2016-09-06  107.149865  736213.0  \n",
       "2016-09-07  107.806498  736214.0  \n",
       "2016-09-08  104.981001  736215.0  "
      ]
     },
     "execution_count": 13,
     "metadata": {},
     "output_type": "execute_result"
    }
   ],
   "source": [
    "df2.head()"
   ]
  },
  {
   "cell_type": "code",
   "execution_count": 14,
   "metadata": {
    "collapsed": false
   },
   "outputs": [],
   "source": [
    "quotes = df2[['date_num', 'Open', 'High', 'Low', 'Close']].values"
   ]
  },
  {
   "cell_type": "markdown",
   "metadata": {},
   "source": [
    "再來我們想在只印每週一的日期"
   ]
  },
  {
   "cell_type": "code",
   "execution_count": 15,
   "metadata": {
    "collapsed": true
   },
   "outputs": [],
   "source": [
    "day_formatter = mdate.DateFormatter(\"%b %d\") # Oct 15 etc"
   ]
  },
  {
   "cell_type": "code",
   "execution_count": 16,
   "metadata": {
    "collapsed": true
   },
   "outputs": [],
   "source": [
    "mondays = mdate.WeekdayLocator(mdate.MONDAY)"
   ]
  },
  {
   "cell_type": "code",
   "execution_count": 17,
   "metadata": {
    "collapsed": false
   },
   "outputs": [
    {
     "data": {
      "text/plain": [
       "<matplotlib.figure.Figure at 0x11944a128>"
      ]
     },
     "metadata": {},
     "output_type": "display_data"
    },
    {
     "data": {
      "image/png": "[encoded data removed]",
      "text/plain": [
       "<matplotlib.figure.Figure at 0x11944a2e8>"
      ]
     },
     "metadata": {},
     "output_type": "display_data"
    }
   ],
   "source": [
    "plt.figure()\n",
    "fig, ax = plt.subplots()\n",
    "ax.xaxis.set_major_locator(mondays)\n",
    "ax.xaxis.set_major_formatter(day_formatter)\n",
    "candlestick_ohlc(ax, quotes, width=0.6, colorup='r', colordown='g');"
   ]
  },
  {
   "cell_type": "markdown",
   "metadata": {},
   "source": [
    "## 移動的 K 線!\n",
    "\n",
    "用互動功能再做一次, 時間拉長到一年, 每次只顯示個 25 天。"
   ]
  },
  {
   "cell_type": "code",
   "execution_count": 18,
   "metadata": {
    "collapsed": true
   },
   "outputs": [],
   "source": [
    "symbol = \"AAPL\"\n",
    "day_start = datetime.datetime(2015,10,1)\n",
    "day_end = datetime.datetime(2016,10,31)"
   ]
  },
  {
   "cell_type": "code",
   "execution_count": 19,
   "metadata": {
    "collapsed": true
   },
   "outputs": [],
   "source": [
    "df3 = web.DataReader(symbol, 'yahoo', day_start, day_end)"
   ]
  },
  {
   "cell_type": "code",
   "execution_count": 20,
   "metadata": {
    "collapsed": false
   },
   "outputs": [],
   "source": [
    "period = df3.Open.count()"
   ]
  },
  {
   "cell_type": "code",
   "execution_count": 22,
   "metadata": {
    "collapsed": false
   },
   "outputs": [],
   "source": [
    "df3[\"date_num\"] = mdate.date2num(df3.index.to_pydatetime())"
   ]
  },
  {
   "cell_type": "code",
   "execution_count": 23,
   "metadata": {
    "collapsed": false
   },
   "outputs": [],
   "source": [
    "quotes = df3[['date_num', 'Open', 'High', 'Low', 'Close']].values"
   ]
  },
  {
   "cell_type": "code",
   "execution_count": 24,
   "metadata": {
    "collapsed": false
   },
   "outputs": [],
   "source": [
    "from ipywidgets import interact"
   ]
  },
  {
   "cell_type": "code",
   "execution_count": 25,
   "metadata": {
    "collapsed": true
   },
   "outputs": [],
   "source": [
    "def klines(m):\n",
    "    plt.figure()\n",
    "    fig, ax = plt.subplots()\n",
    "    ax.xaxis.set_major_locator(mondays)\n",
    "    ax.xaxis.set_major_formatter(day_formatter)\n",
    "    candlestick_ohlc(ax, quotes[m:m+25], width=0.6, colorup='r', colordown='g');"
   ]
  },
  {
   "cell_type": "code",
   "execution_count": 26,
   "metadata": {
    "collapsed": false
   },
   "outputs": [
    {
     "data": {
      "text/plain": [
       "<matplotlib.figure.Figure at 0x119acc0b8>"
      ]
     },
     "metadata": {},
     "output_type": "display_data"
    },
    {
     "data": {
      "image/png": "[encoded data removed]",
      "text/plain": [
       "<matplotlib.figure.Figure at 0x11a5f72b0>"
      ]
     },
     "metadata": {},
     "output_type": "display_data"
    }
   ],
   "source": [
    "interact(klines, m=(0,period-25));"
   ]
  }
 ],
 "metadata": {
  "anaconda-cloud": {},
  "kernelspec": {
   "display_name": "Python [conda root]",
   "language": "python",
   "name": "conda-root-py"
  },
  "language_info": {
   "codemirror_mode": {
    "name": "ipython",
    "version": 3
   },
   "file_extension": ".py",
   "mimetype": "text/x-python",
   "name": "python",
   "nbconvert_exporter": "python",
   "pygments_lexer": "ipython3",
   "version": "3.5.2"
  },
  "widgets": {
   "state": {
    "77fd9cc8d7be492c85994926937c9828": {
     "views": [
      {
       "cell_index": 33
      }
     ]
    }
   },
   "version": "1.2.0"
  }
 },
 "nbformat": 4,
 "nbformat_minor": 1
}
